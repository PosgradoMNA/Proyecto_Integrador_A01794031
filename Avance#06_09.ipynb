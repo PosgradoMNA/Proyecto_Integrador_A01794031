{
  "cells": [
    {
      "cell_type": "markdown",
      "metadata": {
        "id": "view-in-github"
      },
      "source": [
        "<a href=\"https://colab.research.google.com/github/rromerov/Proyecto_Integrador/blob/main/Avance6/Avance6.12.ipynb\" target=\"_parent\"><img src=\"https://colab.research.google.com/assets/colab-badge.svg\" alt=\"Open In Colab\"/></a>"
      ]
    },
    {
      "cell_type": "markdown",
      "metadata": {
        "id": "DAYmOHhX06Y3"
      },
      "source": [
        "# Instituto Tecnológico y de Estudios Superiores de Monterrey\n",
        "## Maestría en Inteligencia Artificial Aplicada\n",
        "### Proyecto Integrador (Gpo 10) - TC5035.10\n",
        "\n",
        "### **Proyecto: Aplicación de Modelos de Machine Learning y Acoplamiento Molecular en el Diseño Acelerado de Fármacos, propuesta contra la Viruela del Simio (MPOX). Enfoque en la Proteína F13; con Datos Experimentales Limitados.**\n",
        "\n",
        "### Avance 6: Conclusiones Clave\n",
        "\n",
        "#### **Docentes:**\n",
        "- Dra. Grettel Barceló Alonso - Profesor Titular\n",
        "- Dr. Luis Eduardo Falcón Morales - Profesor Titular\n",
        "- Dr. Carlos Alberto Brizuela Rodríguez  – Profesor Tutor\n",
        "\n",
        "#### **Miembro del equipo:**\n",
        "- Carlos Mario Larrahondo Valencia - A01794031"
      ]
    },
    {
      "cell_type": "code",
      "execution_count": 1,
      "metadata": {
        "id": "piMZlJMzHMkm"
      },
      "outputs": [],
      "source": [
        "%%capture\n",
        "# Instalar librería para generar tablas\n",
        "! pip install tabulate"
      ]
    },
    {
      "cell_type": "code",
      "execution_count": 2,
      "metadata": {
        "id": "ueqQFOa_eY_2"
      },
      "outputs": [],
      "source": [
        "import requests  # Importa la biblioteca requests para realizar solicitudes HTTP\n",
        "import json     # Importa la biblioteca json para trabajar con datos JSON\n",
        "from tabulate import tabulate  # Importa la biblioteca tabulate para crear tablas"
      ]
    },
    {
      "cell_type": "markdown",
      "metadata": {
        "id": "g9E817jcLQOt"
      },
      "source": [
        "### Conclusiones clave\n",
        "#### Background:\n",
        "\n",
        "El fin específico del diseño de fármacos es que; una vez analizada una enfermedad o patología se determina la molécula clave, con la cual se define un actuar o necesidad específica, como es la inhibición de enzimas o el tratamiento de otros elementos, por la cual se ha diseñado el fármaco. Esta molécula clave, es el resultado de análisis realizados o estudios referente a las propiedades moleculares, grupos funcionales, geometría molecular y la estructura electrónica, también se determinan de estudios realizados a moléculas análogas que ya se encuentran catalogadas. (Desc/MeSH, 2019).\n",
        "\n",
        "\n",
        "Hoy en día se desea cubrir la necesidad de una manera más eficaz y que permita ser una ayuda al desarrollo de los compuestos que permitan generar respuestas acertadas, ante la aparición de nuevas enfermedades o brotes que causan rápidamente altos contagios y muertes en el mundo. Modelos generados con las técnicas de machine learning y combinados con el uso de acoplamiento molecular, están impulsando el desarrollo acelerado de fármacos (DAF), usados en entornos académicos e industriales."
      ]
    },
    {
      "cell_type": "markdown",
      "metadata": {
        "id": "hfNsnEDYmkoT"
      },
      "source": [
        "# **Modelo de Evaluacion de Proceso**\n"
      ]
    },
    {
      "cell_type": "markdown",
      "metadata": {
        "id": "Nl31CQ7L-V7M"
      },
      "source": [
        "La base de datos ChEMBL es el recurso principal que tenemos en este proyecto, para el diseño de fármaco; ya que contiene la información sobre compuestos bioactivos.\n",
        "\n",
        "* Cada molécula en CHEMBL se identifica con un código único, con el cual se puede recuperar los datos de cada entidad química de manera ágil.\n",
        "\n",
        "* SMILES Canónica, es la codificación de la estructura bidimensional de estas moléculas, esta notación es una representación lineal de la complejidad topológica de las moléculas. Esta cadena, permite reconstruir y manipular estructuras moleculares con facilidad, al igual que de manera fácil se pueden realizar análisis comparativos y determinar similitud entre diferentes compuestos a través de sus estructuras.\n",
        "\n",
        "* La bioactividad, cuya clasificación: activo o inactivo, ayuda a determinar qué tipo de interacción significativa tiene un compuesto con el objetivo biológico. Compuesto activo - interacción significativa, por lo que su respuesta puede ser cuantificable y relevante. Compuestos inactivos - interacción no significativa. Esta clasificación es un primer paso para separar inicialmente compuesto que tienen interacción significativa y que son los elegido a ser parte de análisis de desarrollo del nuevo fármaco.\n",
        "\n",
        "* La masa molecular, expresada en Daltons (Da), es un indicador de las propiedades farmacocinéticas de un compuesto. Corresponde a la suma de las masas atómicas de todos los elementos constituyentes de la molécula, esta es de importancia clave debido a que es da un indicio de cómo el cuerpo procesa el compuesto respecto a su absorción y distribución.\n",
        "\n",
        "* El coeficiente de partición, (LogP), representa la relación de concentraciones del compuesto en octanol y agua.\n",
        "\n",
        "* El pIC50, es el logaritmo negativo de la concentración inhibitoria media (IC50). El cual se ha utilizado para comparar la eficacia de diferentes compuestos. Un pIC50 más alto indica una mayor potencia, es decir una menor cantidad del compuesto y se logra el mismo efecto inhibitorio.\n",
        "Este conjunto de datos seleccionado es para contar con los descriptores moleculares de los compuestos en ChEMBL.\n",
        "\n",
        "\n",
        "En el desarrollo del modelo final se utilizaron tres modelos base con características complementarias: Random Forest, Support Vector Regression (SVR) y K-Nearest Neighbors (KNN)."
      ]
    },
    {
      "cell_type": "markdown",
      "metadata": {
        "id": "NlImo9jIr2E-"
      },
      "source": [
        " Estos modelos se diseñaron pensando en la ejecucion de las caracteristicas principales encontradas en la base de datos de CHEMBLtodo para la identificación y optimización de compuestos químicos con aplicaciones biológicas."
      ]
    },
    {
      "cell_type": "markdown",
      "metadata": {
        "id": "AZB2uA79-gbS"
      },
      "source": [
        "**Evaluación de las métricas**\n",
        "\n",
        "\n",
        "\n"
      ]
    },
    {
      "cell_type": "markdown",
      "metadata": {
        "id": "hyBo1Uk9BsYM"
      },
      "source": [
        "## **Hallazgos de Moleculas:**\n",
        "\n",
        "Total de moléculas en df_main_all_pIC50: 10635\n",
        "Total de moléculas en df_main_all_pIC50 que aparecen en merged_df_original_modified: 8656\n",
        "Porcentaje de moléculas válidas: 81.39%\n",
        "\n",
        "Con lo que se empieza a determinar que tanto porcentaje de los datos se pueden presentar como posibles moleculas a estudiar y que se encuentran en lo que tratamos de analizar.\n",
        "\n",
        "## **Variable Canonical Smiles:**\n",
        "\n",
        "La cula nos identifica el parentezco de las moleculas y su nivel de actividad\n",
        "\n",
        "\tmolecule_chembl_id\tcanonical_smiles\tclass\tMW\tLogP\tNumHDonors\tNumHAcceptors\tpIC50\n",
        "0\tCHEMBL2022564\tCC[C@H](C)[C@H]1C(=O)N2CCC[C@H]2C(=O)O[C@H](C(...\tactive\t828.130\t5.1124\t2.0\t10.0\t9.494850\n",
        "1\tCHEMBL3234200\tCC[C@H](C)[C@H]1C(=O)N2CCC[C@H]2C(=O)O[C@H](C(...\tactive\t814.103\t4.8664\t2.0\t10.0\t9.522879\n",
        "2\tCHEMBL3234201\tCC[C@H](C)[C@H]1C(=O)N2CCC[C@H]2C(=O)O[C@H](C(...\tactive\t842.157\t5.5025\t2.0\t10.0\t9.327902\n",
        "3\tCHEMBL3234202\tCC[C@H](C)[C@H]1C(=O)N2CCC[C@H]2C(=O)O[C@H](C(...\tactive\t828.130\t5.1124\t2.0\t10.0\t9.920819\n",
        "4\tCHEMBL3649592\tCC1CCC(NCc2ccn(Cc3ccccc3)c(=O)c2O)CC1\tinactive\t326.440\t3.2705\t2.0\t4.0\t4.562249\n",
        "...\t...\t...\t...\t...\t...\t...\t...\t...\n",
        "10630\tCHEMBL4636800\tCOc1ccc(-c2cnn3c(N)c(-c4ccccc4)c(NCCCN(C)C)nc2...\tintermediate\t446.555\t4.0263\t2.0\t8.0\t5.102373\n",
        "10631\tCHEMBL4644274\tCOc1ccc(-c2cnn3c(N)c(-c4ccccc4)c(NC4CC(C)(C)N(...\tactive\t514.674\t5.7260\t2.0\t8.0\t6.004365\n",
        "10632\tCHEMBL4636056\tCN1C(C)(C)CC(Nc2nc3c(-c4ccc(C(=O)N5C[C@@H]6C[C...\tintermediate\t579.749\t5.3221\t2.0\t8.0\t5.886057\n",
        "10633\tCHEMBL4643578\tCOC(=O)N1CCN(C(=O)c2ccc(-c3cnn4c(N)c(-c5ccccc5...\tactive\t624.790\t5.2330\t2.0\t9.0\t6.050610\n",
        "10634\tCHEMBL4639022\tCN1C(C)(C)CC(Nc2nc3c(-c4ccc(C(=O)N5CCN(S(C)(=O...\tintermediate\t644.846\t4.4262\t2.0\t9.0\t5.958607\n",
        "10635 rows × 8 columns\n",
        "\n",
        "**Acciones que pudieran mejorar esta métrica:**\n",
        "* Añadir características relevantes o transformar las existentes puede aumentar la capacidad predictiva del modelo.\n",
        "* Realizar una búsqueda exhaustiva de hiperparámetros para optimizar el rendimiento del modelo."
      ]
    },
    {
      "cell_type": "markdown",
      "metadata": {
        "id": "SBlwNiKcBuE4"
      },
      "source": [
        "\n",
        "## **Modelo Blending:**\n",
        "\n",
        "\n",
        "Metrics for Blending Model:\n",
        "\n",
        "Training Time: 0.994511604309082 seconds\n",
        "\n",
        "Mean Absolute Error (MAE): 0.1380555420852283\n",
        "\n",
        "Mean Squared Error (MSE): 0.03009646127453704\n",
        "\n",
        "Root Mean Squared Error (RMSE): 0.173483316991972\n",
        "\n",
        "Mean Absolute Percentage Error (MAPE): 0.8151057650187731\n",
        "\n",
        "Explained Variance Score: 0.4798682039099823\n",
        "\n",
        "Max Error: 0.3759151310136845\n",
        "\n",
        "Median Absolute Error: 0.1011581853596965\n",
        "\n",
        "R^2 Score: 0.4712043308904288\n",
        "\n",
        "## **Mean Absolute Error (MAE):**\n",
        "\n",
        "**Valor:** 0.13\n",
        "\n",
        "Mide el error promedio absoluto entre las predicciones y los valores reales de pIC50.\n"
      ]
    },
    {
      "cell_type": "markdown",
      "metadata": {
        "id": "mjV2iNpMC21k"
      },
      "source": [
        "## **Mean Squared Error (MSE):**\n",
        "\n",
        "**Valor:** 0.03\n",
        "\n",
        "Mide el promedio de los errores al cuadrado entre las predicciones y los valores reales de pIC50."
      ]
    },
    {
      "cell_type": "markdown",
      "metadata": {
        "id": "Yu81ZMIGDhmb"
      },
      "source": [
        "## **Root Mean Squared Error (RMSE):**\n",
        "\n",
        "**Valor:** 0.17\n",
        "\n",
        "Es la raíz cuadrada del MSE, proporcionando una medida del error en las mismas unidades que la variable de salida (pIC50)."
      ]
    },
    {
      "cell_type": "markdown",
      "metadata": {
        "id": "1Xt8YgETEE7c"
      },
      "source": [
        "## **Mean Absolute Percentage Error (MAPE):**\n",
        "\n",
        "**Valor:** 81%\n",
        "\n",
        "Mide el error promedio absoluto en términos porcentuales, lo que puede ser más intuitivo para evaluar el rendimiento del modelo."
      ]
    },
    {
      "cell_type": "markdown",
      "metadata": {
        "id": "hcIAqwXmeZAC"
      },
      "source": [
        "### Desempeño\n",
        "- Se tiene un desempeño rapido en la ejecución del modelo pero este también esta dado por los pocos datos que debe de analizar.\n",
        "\n"
      ]
    },
    {
      "cell_type": "markdown",
      "metadata": {
        "id": "G39mMHD30Bls"
      },
      "source": [
        "# Apoyo por parte de stakeholders"
      ]
    },
    {
      "cell_type": "markdown",
      "metadata": {
        "id": "nMCifeNP0Lst"
      },
      "source": [
        "## Incrementar la Calidad y Cantidad de Datos\n",
        "\n",
        "Se debe mejorar la cantidad de datos que se han icorporado al modelo, recrear la familia y buscar relativos de las moleculas en otras familias. Poder extender las medidas capturadas de las bases de datos con que se estan elaborando los modelos.\n",
        "Las caracterisiticas explorar mas de ellas, conocer que caracteristicas pueden potencializar al modelo y el estudio realizado."
      ]
    },
    {
      "cell_type": "markdown",
      "metadata": {
        "id": "a1S_TiUP-qbF"
      },
      "source": [
        "# **Análisis de despliegue en la nube**\n",
        "\n",
        "La nube proporciona elementos de mejora en la potencia de generacion de información y procesamiento de la misma. El desplegar este desarrollo nos permite encontrar ventajas en capacidad de computo y complementar la administracion del sistema a un tercero para lograr el objetivo principal de desarrollar y avanzar en el modelo."
      ]
    },
    {
      "cell_type": "markdown",
      "metadata": {
        "id": "4wlBXs6JHMkq"
      },
      "source": [
        "#### **AWS (Amazon Web Services), Microsoft Azure, Google Cloud Platform (GCP), IBM Watson\n",
        "Estas herramientas tienen una serie de componentes en la nube que nos ofrecen las ventajas de contar con servicios y analisis de computo.\n"
      ]
    },
    {
      "cell_type": "markdown",
      "metadata": {
        "id": "qGAg73RoHMkq"
      },
      "source": [
        "#### **Precios Azure**"
      ]
    },
    {
      "cell_type": "code",
      "execution_count": null,
      "metadata": {
        "id": "l5wQn3dqeZAE",
        "outputId": "9e7542ae-7d90-426b-ab99-5089ab5b6ea7"
      },
      "outputs": [
        {
          "name": "stdout",
          "output_type": "stream",
          "text": [
            "+----------------+----------+----------+----------+-----------------------------+\n",
            "| SKU            |   Precio | Unidad   | Región   | Nombre del producto         |\n",
            "|----------------+----------+----------+----------+-----------------------------|\n",
            "| Standard_D4_v3 |   0.0192 | 1 Hour   | eastus   | Virtual Machines Dv3 Series |\n",
            "+----------------+----------+----------+----------+-----------------------------+\n"
          ]
        }
      ],
      "source": [
        "def build_pricing_table(json_data, table_data):\n",
        "    \"\"\"\n",
        "    Esta función itera a través de una respuesta JSON que contiene información de precios de Azure\n",
        "    y crea una tabla con los detalles relevantes.\n",
        "\n",
        "    Argumentos:\n",
        "        json_data (dict): Los datos JSON recuperados de la API de precios minoristas de Azure.\n",
        "        table_data (list): Una lista de listas para almacenar los datos de la tabla de precios.\n",
        "    \"\"\"\n",
        "\n",
        "    for item in json_data['Items']:\n",
        "        product_name = item['productName']\n",
        "        if not product_name.endswith('Windows'):  # Filtrar productos que terminan en 'Windows'\n",
        "            table_data.append([\n",
        "                item['armSkuName'],  # Nombre de SKU del servicio de Azure\n",
        "                item['retailPrice'],  # Precio minorista para la unidad actual\n",
        "                item['unitOfMeasure'],  # Unidad en la que se mide el precio (por ejemplo, Horas)\n",
        "                item['armRegionName'],  # Región donde se aplica la fijación de precios\n",
        "                product_name   # Nombre del producto (por ejemplo, Máquinas virtuales)\n",
        "            ])\n",
        "\n",
        "def main():\n",
        "    \"\"\"\n",
        "    La función principal realiza los siguientes pasos:\n",
        "    1. Define la URL y los parámetros de consulta de la API.\n",
        "    2. Realiza una solicitud GET a la API de precios minoristas de Azure.\n",
        "    3. Procesa los datos de respuesta y crea la tabla de precios (manejando la paginación).\n",
        "    4. Imprime la tabla de precios final utilizando tabulate.\n",
        "    \"\"\"\n",
        "\n",
        "    table_data = []\n",
        "    table_data.append(['SKU', 'Precio', 'Unidad', 'Región', 'Nombre del producto'])  # Encabezados de tabla\n",
        "\n",
        "    api_url = \"https://prices.azure.com/api/retail/prices?api-version=2021-10-01-preview\"\n",
        "    query = \"armRegionName eq 'eastus' and armSkuName eq 'Standard_D4_v3' and priceType eq 'Consumption' and contains(meterName, 'Spot')\"  # Criterios de filtro\n",
        "\n",
        "    response = requests.get(api_url, params={'$filter': query})\n",
        "    json_data = json.loads(response.text)\n",
        "\n",
        "    build_pricing_table(json_data, table_data)\n",
        "\n",
        "    next_page_link = json_data.get('NextPageLink')  # Verifica si hay un enlace de paginación\n",
        "\n",
        "    while next_page_link:\n",
        "        response = requests.get(next_page_link)\n",
        "        json_data = json.loads(response.text)\n",
        "        next_page_link = json_data.get('NextPageLink')\n",
        "        build_pricing_table(json_data, table_data)\n",
        "\n",
        "    print(tabulate(table_data, headers='firstrow', tablefmt='psql'))  # Imprime la tabla en formato psql\n",
        "\n",
        "if __name__ == \"__main__\":\n",
        "    main()"
      ]
    },
    {
      "cell_type": "markdown",
      "metadata": {
        "id": "082GKWv7HMks"
      },
      "source": [
        "#### **Precios AWS**"
      ]
    },
    {
      "cell_type": "code",
      "execution_count": null,
      "metadata": {
        "id": "EmHv9YXNHMks",
        "outputId": "a0579d73-6376-4d80-bb86-3e8d28b54c5d"
      },
      "outputs": [
        {
          "name": "stdout",
          "output_type": "stream",
          "text": [
            "+-----------------------+--------------------------+------------------+--------+\n",
            "|       Ubicación       |  Nombre de la instancia  |       SKU        | Precio |\n",
            "+-----------------------+--------------------------+------------------+--------+\n",
            "| US East (N. Virginia) | ml.r6id.xlarge-Notebook  | Y9A49MW2678M5ZKP | 0.363  |\n",
            "| US East (N. Virginia) | ml.c6id.xlarge-Notebook  | TZVRSHTSEBBT3AMY | 0.242  |\n",
            "| US East (N. Virginia) | ml.eia1.medium-Notebook  | NQWWKKJPQASUF5YZ | 0.182  |\n",
            "| US East (N. Virginia) |   ml.r5.large-Notebook   | 5ECFPCRSVWR7CWKA | 0.151  |\n",
            "| US East (N. Virginia) | ml.c6id.2xlarge-Notebook | SUTZJCSFCX32XTRP | 0.484  |\n",
            "+-----------------------+--------------------------+------------------+--------+\n"
          ]
        }
      ],
      "source": [
        "# Descargar los datos de la API\n",
        "url = \"https://pricing.us-east-1.amazonaws.com/offers/v1.0/aws/AmazonSageMaker/current/us-east-1/index.json\"\n",
        "response = requests.get(url)\n",
        "data = response.json()\n",
        "\n",
        "# Lista para almacenar las máquinas virtuales que cumplen con el criterio\n",
        "filtered_vms = []\n",
        "\n",
        "# Analizar y filtrar los datos\n",
        "count = 0  # Contador para limitar los resultados\n",
        "max_results = 5  # Número máximo de resultados a mostrar\n",
        "\n",
        "for sku, product in data['products'].items():\n",
        "    if 'attributes' in product and 'instanceType' in product['attributes']:\n",
        "        instance_type = product['attributes']['instanceType']\n",
        "        if 'Notebook' in instance_type:\n",
        "            # Obtener el precio de manera más robusta\n",
        "            price = 'N/A'\n",
        "            if sku in data['terms']['OnDemand']:\n",
        "                offer_terms = data['terms']['OnDemand'][sku]\n",
        "                for term_key, term_value in offer_terms.items():\n",
        "                    price_dimensions = term_value.get('priceDimensions')\n",
        "                    if price_dimensions:\n",
        "                        for dimension_key, dimension_value in price_dimensions.items():\n",
        "                            price = dimension_value.get('pricePerUnit', {}).get('USD', 'N/A')\n",
        "                            if price != 'N/A' and float(price) < 0.5:\n",
        "                                price = round(float(price), 4)\n",
        "                                instance_name = product['attributes'].get('instanceType', 'N/A')\n",
        "                                location = product['attributes'].get('location', 'us-east-1')\n",
        "                                if location == 'US East (N. Virginia)':\n",
        "                                    filtered_vms.append([location, instance_name, sku, price])\n",
        "                                    count += 1\n",
        "                                    if count >= max_results:\n",
        "                                        break  # Salir después de alcanzar el número máximo de resultados\n",
        "                            break  # Salir después de encontrar el primer precio\n",
        "                if count >= max_results:\n",
        "                    break  # Salir después de alcanzar el número máximo de resultados\n",
        "    if count >= max_results:\n",
        "        break  # Salir después de alcanzar el número máximo de resultados\n",
        "\n",
        "# Imprimir los resultados en una tabla\n",
        "headers = [\"Ubicación\", \"Nombre de la instancia\", \"SKU\", \"Precio\"]\n",
        "print(tabulate(filtered_vms, headers, tablefmt=\"pretty\"))"
      ]
    },
    {
      "cell_type": "markdown",
      "metadata": {
        "id": "tq-eNIRXeZAH"
      },
      "source": [
        "# Comparación de AWS, Azure,\n",
        "\n",
        "Comparación entre AWS y Azure\n",
        "\n",
        "1. Usabilidad\n",
        "AWS\n",
        "\n",
        "Interfaz Compleja pero Poderosa: AWS se destaca por su rica funcionalidad, aunque su amplia variedad de opciones puede resultar abrumadora para principiantes. Sin embargo, esta complejidad ofrece flexibilidad y precisión para usuarios avanzados que requieren configuraciones específicas.\n",
        "Documentación y Comunidad: AWS brinda recursos educativos detallados, como tutoriales y cursos, junto con una comunidad activa y soporte técnico de pago en diferentes niveles, lo que facilita resolver problemas.\n",
        "Ecosistema Extenso: La gran cantidad de servicios y soluciones integrados en AWS permite diseñar aplicaciones complejas adaptadas a prácticamente cualquier necesidad empresarial.\n",
        "\n",
        "Azure\n",
        "\n",
        "Integración con Microsoft: Azure ofrece una experiencia fluida para usuarios que ya trabajan con tecnologías de Microsoft, como Office 365 y Active Directory, simplificando la gestión y adoptando una curva de aprendizaje menor.\n",
        "Interfaz Amigable: Su diseño intuitivo, especialmente para usuarios de Windows, hace que la navegación y configuración de recursos sea más sencilla.\n",
        "Portal Centralizado: El Portal de Azure permite administrar y monitorear servicios desde una única plataforma, lo que optimiza la supervisión y el control de recursos.\n",
        "\n",
        "2. Escalabilidad\n",
        "\n",
        "AWS\n",
        "\n",
        "Adaptabilidad: AWS cuenta con funciones de escalado automático para gestionar variaciones en la demanda, asegurando un rendimiento óptimo con costos controlados.\n",
        "Capacidad para Altas Demandas: Su infraestructura es ideal para aplicaciones que manejan grandes volúmenes de datos y tráfico, con servicios como S3, DynamoDB y Redshift diseñados para escalar eficientemente.\n",
        "Autoscaling: Permite ajustar recursos automáticamente según la necesidad, abarcando múltiples servicios como EC2, contenedores y grupos de escalado.\n",
        "\n",
        "Azure\n",
        "\n",
        "Escalabilidad Empresarial: Proporciona soluciones robustas y herramientas avanzadas de monitoreo para satisfacer las necesidades de grandes organizaciones. Los Virtual Machine Scale Sets permiten gestionar cargas de trabajo masivas con facilidad.\n",
        "Optimización del Rendimiento: Azure Monitor y Azure Advisor ofrecen información valiosa para maximizar la eficiencia de los recursos.\n",
        "Scale Sets de Azure: Facilitan la creación de grupos escalables de máquinas virtuales con balanceo de carga automático, adecuado para implementaciones de gran escala.\n",
        "\n",
        "3. Servicios Disponibles\n",
        "\n",
        "AWS\n",
        "\n",
        "Variedad de Opciones: AWS cubre áreas clave como computación, almacenamiento y machine learning, con servicios emblemáticos como EC2 (computación), S3 (almacenamiento) y RDS (bases de datos).\n",
        "Innovación Constante: Servicios como Lambda (sin servidor) y SageMaker (machine learning) demuestran el enfoque de AWS en tecnología avanzada.\n",
        "Especialización en IoT: Con herramientas como AWS IoT Core y AWS Greengrass, AWS facilita la creación y gestión de soluciones de Internet de las Cosas.\n",
        "\n",
        "Azure\n",
        "\n",
        "Foco en Soluciones Empresariales: Sobresale en aplicaciones empresariales, con servicios como Azure Active Directory (gestión de identidades) y Azure SQL Database (bases de datos administradas).\n",
        "Herramientas Especializadas: Servicios como Azure Machine Learning y Azure IoT Hub permiten desarrollar aplicaciones avanzadas de inteligencia artificial e IoT.\n",
        "Análisis de Datos con Power BI: Azure potencia el análisis de datos empresariales mediante Power BI, que permite crear informes interactivos y visualizaciones para una toma de decisiones informada.\n",
        "\n",
        "4. Costos\n",
        "\n",
        "AWS\n",
        "\n",
        "Modelo de Pago por Uso: AWS cobra únicamente por los recursos consumidos, con tarifas flexibles por hora, minuto o segundo según el servicio.\n",
        "Nivel Gratuito: Los nuevos usuarios pueden experimentar con la plataforma sin costo mediante el AWS Free Tier, que incluye acceso gratuito a ciertos servicios por 12 meses.\n",
        "Descuentos a Largo Plazo: Programas como Savings Plans y Reserved Instances ofrecen ahorros significativos en costos de computación.\n",
        "\n",
        "Azure\n",
        "\n",
        "Suscripciones Flexibles: Azure combina el pago por uso con opciones de suscripción mensual, ofreciendo mayor personalización. Además, cuenta con una calculadora para estimar gastos.\n",
        "Créditos Iniciales: Los nuevos usuarios reciben $200 en créditos gratuitos durante 30 días y acceso gratuito a ciertos servicios durante un año.\n",
        "Ofertas de Ahorro: Opciones como Azure Reserved VM Instances y Azure Hybrid Benefit permiten reducir los costos de manera significativa.\n",
        "\n",
        "5. Seguridad y Cumplimiento\n",
        "\n",
        "AWS\n",
        "\n",
        "Cumplimiento Extenso: AWS cumple con normativas internacionales como ISO 27001, SOC 1/2/3 y PCI DSS, entre otras, destacándose por su infraestructura robusta.\n",
        "Herramientas de Seguridad: Servicios como AWS Shield (protección DDoS), AWS WAF (firewall) e IAM (gestión de accesos) garantizan la seguridad de datos y aplicaciones.\n",
        "Cifrado y Monitoreo: Proporciona cifrado en tránsito y en reposo, además de herramientas para auditoría y supervisión constante.\n",
        "\n",
        "Azure\n",
        "\n",
        "Certificaciones Internacionales: Azure cumple con normativas como ISO 27001, HIPAA y GDPR, asegurando el cumplimiento en diversas industrias.\n",
        "Gestión Centralizada: Azure Security Center centraliza la seguridad y proporciona recomendaciones automáticas para mitigar riesgos.\n",
        "Active Directory: Su integración avanzada con Active Directory simplifica la autenticación, el control de acceso y la gestión de identidades híbridas, ideal para empresas que manejan entornos complejos.\n",
        "Esta redacción mantiene las ideas clave, pero reestructura y simplifica los conceptos para mejorar la fluidez y accesibilidad del texto. ¿Necesitas algún ajuste adicional?\n",
        "\n",
        "\n",
        "\n",
        "\n",
        "\n",
        "\n",
        "\n",
        "\n",
        "\n",
        "\n",
        "\n",
        "\n",
        "\n"
      ]
    },
    {
      "cell_type": "markdown",
      "source": [
        "\n",
        "Referencias\n",
        "\n",
        "DECS/MESH. (2019, 01 enero). https://decs.bvsalud.org/es/ths/resource/?id=23621#Details\n",
        "\n",
        "Farmaindustria. (2023, diciembre). Cuánto tiempo se tarda en desarrollar un medicamento y por qué. https://www.farmaindustria.es/web/reportaje/cuanto-tiempo-se-tarda-y-por-que-en-desarrollar-un-medicamento/\n",
        "\n",
        "Sklenovská, N., Ranst, V. Front. Public Health. (2018, 03 September). Emergence of Monkeypox as the Most Important Orthopoxvirus Infection in Humans.https://www.frontiersin.org/journals/public-health/articles/10.3389/fpubh.2018.00241/full\n",
        "\n",
        "Colaboradores de Wikipedia. (26 de septiembre de 2024). Regla de cinco de Lipinski. En Wikipedia, La enciclopedia libre . Consultado el 14 de octubre de 2024 a las 13:18, en https://en.wikipedia.org/w/index.php?title=Regla_de_cinco_de_Lipinski&oldid=1247812776\n",
        "\n",
        "\n",
        "\n",
        "\n",
        "\n",
        "\n",
        "\n",
        "\n"
      ],
      "metadata": {
        "id": "-u000g9W9oQH"
      }
    }
  ],
  "metadata": {
    "colab": {
      "provenance": []
    },
    "kernelspec": {
      "display_name": "Python 3",
      "name": "python3"
    },
    "language_info": {
      "codemirror_mode": {
        "name": "ipython",
        "version": 3
      },
      "file_extension": ".py",
      "mimetype": "text/x-python",
      "name": "python",
      "nbconvert_exporter": "python",
      "pygments_lexer": "ipython3",
      "version": "3.10.10"
    }
  },
  "nbformat": 4,
  "nbformat_minor": 0
}